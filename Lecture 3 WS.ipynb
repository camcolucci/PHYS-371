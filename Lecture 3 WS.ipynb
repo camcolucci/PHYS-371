{
 "cells": [
  {
   "cell_type": "code",
   "execution_count": 3,
   "id": "5d4948f1",
   "metadata": {},
   "outputs": [
    {
     "name": "stdout",
     "output_type": "stream",
     "text": [
      "12 12166\n"
     ]
    }
   ],
   "source": [
    "import numpy as np\n",
    "import math as m\n",
    "k=1\n",
    "N=0\n",
    "while N<10**4:\n",
    "    k+=1\n",
    "    N=N+2*k**3\n",
    "print(k,N)\n"
   ]
  },
  {
   "cell_type": "code",
   "execution_count": null,
   "id": "fdffdb63",
   "metadata": {},
   "outputs": [],
   "source": []
  }
 ],
 "metadata": {
  "kernelspec": {
   "display_name": "Python 3 (ipykernel)",
   "language": "python",
   "name": "python3"
  },
  "language_info": {
   "codemirror_mode": {
    "name": "ipython",
    "version": 3
   },
   "file_extension": ".py",
   "mimetype": "text/x-python",
   "name": "python",
   "nbconvert_exporter": "python",
   "pygments_lexer": "ipython3",
   "version": "3.11.5"
  }
 },
 "nbformat": 4,
 "nbformat_minor": 5
}

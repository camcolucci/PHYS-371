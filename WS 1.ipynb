{
 "cells": [
  {
   "cell_type": "code",
   "execution_count": 1,
   "id": "589a7cbe",
   "metadata": {
    "tags": []
   },
   "outputs": [
    {
     "name": "stdout",
     "output_type": "stream",
     "text": [
      "1.0\n",
      "2.0\n",
      "3.0\n",
      "4.0\n",
      "5.0\n",
      "6.0\n",
      "7.0\n",
      "8.0\n",
      "9.0\n",
      "10.0\n"
     ]
    }
   ],
   "source": [
    "import numpy as np\n",
    "s = 0.0\n",
    "for i in range(10):\n",
    "    s = s+1\n",
    "    print(s)"
   ]
  },
  {
   "cell_type": "code",
   "execution_count": 2,
   "id": "371c3b41",
   "metadata": {
    "tags": []
   },
   "outputs": [
    {
     "name": "stdout",
     "output_type": "stream",
     "text": [
      "[ 1.  3.  6. 10. 15. 21. 28. 36. 45. 55.]\n"
     ]
    }
   ],
   "source": [
    "s = np.zeros(10)\n",
    "for i in range(10):\n",
    "    s[i] = s[i-1]+1+i\n",
    "print(s)"
   ]
  },
  {
   "cell_type": "code",
   "execution_count": 3,
   "id": "3e19e36c",
   "metadata": {
    "tags": []
   },
   "outputs": [
    {
     "name": "stdout",
     "output_type": "stream",
     "text": [
      "[ 1.  3.  5.  7.  9. 11. 13. 15. 17. 19.]\n"
     ]
    }
   ],
   "source": [
    "import matplotlib as plt\n",
    "for i in range(10):\n",
    "    s[i] = 2*i+1\n",
    "print(s)"
   ]
  },
  {
   "cell_type": "code",
   "execution_count": 4,
   "id": "a93cb8ef",
   "metadata": {
    "tags": []
   },
   "outputs": [
    {
     "name": "stdout",
     "output_type": "stream",
     "text": [
      "[7.84590957e-02 1.56434465e-01 2.33445364e-01 3.09016994e-01\n",
      " 3.82683432e-01 4.53990500e-01 5.22498565e-01 5.87785252e-01\n",
      " 6.49448048e-01 7.07106781e-01 7.60405966e-01 8.09016994e-01\n",
      " 8.52640164e-01 8.91006524e-01 9.23879533e-01 9.51056516e-01\n",
      " 9.72369920e-01 9.87688341e-01 9.96917334e-01 1.00000000e+00\n",
      " 9.96917334e-01 9.87688341e-01 9.72369920e-01 9.51056516e-01\n",
      " 9.23879533e-01 8.91006524e-01 8.52640164e-01 8.09016994e-01\n",
      " 7.60405966e-01 7.07106781e-01 6.49448048e-01 5.87785252e-01\n",
      " 5.22498565e-01 4.53990500e-01 3.82683432e-01 3.09016994e-01\n",
      " 2.33445364e-01 1.56434465e-01 7.84590957e-02 1.22464680e-16]\n"
     ]
    }
   ],
   "source": [
    "import math\n",
    "N = 40\n",
    "s= np.zeros(N)\n",
    "x = np.zeros(N)\n",
    "for i in range (N):\n",
    "    s[i]=np.sin(((i+1)*math.pi)/N)\n",
    "    x[i]=i+1\n",
    "print(s)"
   ]
  },
  {
   "cell_type": "code",
   "execution_count": 12,
   "id": "2b38e2f1",
   "metadata": {},
   "outputs": [],
   "source": [
    "import seaborn\n",
    "import plotly\n",
    "import matplotlib.pyplot as mplt"
   ]
  },
  {
   "cell_type": "code",
   "execution_count": 13,
   "id": "1d52bc6d",
   "metadata": {},
   "outputs": [
    {
     "name": "stdout",
     "output_type": "stream",
     "text": [
      "[7.84590957e-02 1.56434465e-01 2.33445364e-01 3.09016994e-01\n",
      " 3.82683432e-01 4.53990500e-01 5.22498565e-01 5.87785252e-01\n",
      " 6.49448048e-01 7.07106781e-01 7.60405966e-01 8.09016994e-01\n",
      " 8.52640164e-01 8.91006524e-01 9.23879533e-01 9.51056516e-01\n",
      " 9.72369920e-01 9.87688341e-01 9.96917334e-01 1.00000000e+00\n",
      " 9.96917334e-01 9.87688341e-01 9.72369920e-01 9.51056516e-01\n",
      " 9.23879533e-01 8.91006524e-01 8.52640164e-01 8.09016994e-01\n",
      " 7.60405966e-01 7.07106781e-01 6.49448048e-01 5.87785252e-01\n",
      " 5.22498565e-01 4.53990500e-01 3.82683432e-01 3.09016994e-01\n",
      " 2.33445364e-01 1.56434465e-01 7.84590957e-02 1.22464680e-16]\n"
     ]
    },
    {
     "data": {
      "text/plain": [
       "[<matplotlib.lines.Line2D at 0x1770e1bd0>]"
      ]
     },
     "execution_count": 13,
     "metadata": {},
     "output_type": "execute_result"
    },
    {
     "data": {
      "image/png": "[encoded data removed]",
      "text/plain": [
       "<Figure size 640x480 with 1 Axes>"
      ]
     },
     "metadata": {},
     "output_type": "display_data"
    }
   ],
   "source": [
    "import math\n",
    "N = 40\n",
    "s= np.zeros(N)\n",
    "x = np.zeros(N)\n",
    "for i in range (N):\n",
    "    s[i]=np.sin(((i+1)*math.pi)/N)\n",
    "    x[i]=i+1\n",
    "print(s)\n",
    "mplt.plot(x, s)"
   ]
  },
  {
   "cell_type": "code",
   "execution_count": 19,
   "id": "dbaa0b1d",
   "metadata": {},
   "outputs": [
    {
     "name": "stdout",
     "output_type": "stream",
     "text": [
      "[1.000000e+00 2.000000e+00 6.000000e+00 2.400000e+01 1.200000e+02\n",
      " 7.200000e+02 5.040000e+03 4.032000e+04 3.628800e+05 3.628800e+06\n",
      " 3.991680e+07 4.790016e+08]\n"
     ]
    }
   ],
   "source": [
    "s=np.zeros(12)\n",
    "s[0]=1\n",
    "for i in range (2,13):\n",
    "    s[i-1]=s[i-2]*i\n",
    "print(s)"
   ]
  },
  {
   "cell_type": "code",
   "execution_count": 7,
   "id": "9aae1dc5",
   "metadata": {},
   "outputs": [
    {
     "name": "stdout",
     "output_type": "stream",
     "text": [
      "1\n",
      "5\n",
      "11\n",
      "19\n",
      "29\n",
      "41\n",
      "55\n",
      "71\n",
      "89\n",
      "109\n"
     ]
    }
   ],
   "source": [
    "P = 0\n",
    "k = 1\n",
    "x = 0\n",
    "while (k<11):\n",
    "    P = x + k**2\n",
    "    print(P)\n",
    "    k = k+1\n",
    "    x = k - 1 \n"
   ]
  },
  {
   "cell_type": "code",
   "execution_count": 14,
   "id": "743fa3ce",
   "metadata": {},
   "outputs": [
    {
     "name": "stdout",
     "output_type": "stream",
     "text": [
      "1\n",
      "5\n",
      "11\n",
      "19\n",
      "29\n",
      "41\n",
      "55\n",
      "71\n",
      "89\n",
      "109\n",
      "131\n",
      "155\n",
      "181\n",
      "209\n"
     ]
    }
   ],
   "source": [
    "P = 0\n",
    "k = 1\n",
    "x = 0\n",
    "y = int(input('Enter range value:'))\n",
    "while (k<y+1):\n",
    "    P = x + k**2\n",
    "    print(P)\n",
    "    k = k+1\n",
    "    x = k - 1 "
   ]
  },
  {
   "cell_type": "code",
   "execution_count": 25,
   "id": "9211d7a6",
   "metadata": {},
   "outputs": [
    {
     "name": "stdout",
     "output_type": "stream",
     "text": [
      "10\n"
     ]
    }
   ],
   "source": [
    "P = 0\n",
    "k = 1\n",
    "x = 0\n",
    "y = int(input('Enter range value:'))\n",
    "# while (k<y+1):\n",
    "#     P = x + k**2\n",
    "#     print(P)\n",
    "#     k = k+1\n",
    "#     x = k - 1 \n",
    "while (P<y):\n",
    "    P = x + k**2\n",
    "    k = k+1\n",
    "    x = k - 1 \n",
    "\n",
    "print(k-1)"
   ]
  },
  {
   "cell_type": "code",
   "execution_count": null,
   "id": "e3a1b1b4",
   "metadata": {},
   "outputs": [],
   "source": []
  }
 ],
 "metadata": {
  "kernelspec": {
   "display_name": "Python 3 (ipykernel)",
   "language": "python",
   "name": "python3"
  },
  "language_info": {
   "codemirror_mode": {
    "name": "ipython",
    "version": 3
   },
   "file_extension": ".py",
   "mimetype": "text/x-python",
   "name": "python",
   "nbconvert_exporter": "python",
   "pygments_lexer": "ipython3",
   "version": "3.11.5"
  }
 },
 "nbformat": 4,
 "nbformat_minor": 5
}

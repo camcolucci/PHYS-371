{
 "cells": [
  {
   "cell_type": "code",
   "execution_count": null,
   "metadata": {},
   "outputs": [],
   "source": [
    "import numpy as np\n",
    "import math as m\n",
    "\n",
    "user = int(input('Enter number of desired steps:'))\n",
    "\n",
    "def Fibonacci(user):\n",
    "    A = 0\n",
    "    B = 1\n",
    "    Sum = 10\n",
    "    i = 0  \n",
    "    while i < user: \n",
    "        Sum = A + B\n",
    "        B = A\n",
    "        A = Sum\n",
    "        i += 1\n",
    "    return (Sum)\n",
    "output = Fibonacci(user)\n",
    "print(output)"
   ]
  },
  {
   "cell_type": "code",
   "execution_count": 4,
   "metadata": {},
   "outputs": [
    {
     "name": "stdout",
     "output_type": "stream",
     "text": [
      "5.670374419e-08 3.141592653589793 1.0545718176461565e-34\n"
     ]
    }
   ],
   "source": [
    "import scipy.constants as s\n",
    "print(s.sigma,s.pi,s.hbar)\n",
    "\n"
   ]
  },
  {
   "cell_type": "code",
   "execution_count": null,
   "metadata": {},
   "outputs": [],
   "source": []
  }
 ],
 "metadata": {
  "kernelspec": {
   "display_name": "base",
   "language": "python",
   "name": "python3"
  },
  "language_info": {
   "codemirror_mode": {
    "name": "ipython",
    "version": 3
   },
   "file_extension": ".py",
   "mimetype": "text/x-python",
   "name": "python",
   "nbconvert_exporter": "python",
   "pygments_lexer": "ipython3",
   "version": "3.11.5"
  }
 },
 "nbformat": 4,
 "nbformat_minor": 2
}
